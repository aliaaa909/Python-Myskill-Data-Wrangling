{
 "cells": [
  {
   "cell_type": "code",
   "execution_count": 9,
   "metadata": {},
   "outputs": [],
   "source": [
    "import pandas as pd\n",
    "\n",
    "pd.options.display.max_columns = None"
   ]
  },
  {
   "cell_type": "code",
   "execution_count": 4,
   "metadata": {},
   "outputs": [],
   "source": [
    "df_credit = pd.read_csv('credit_card.csv', dtype=str)\n",
    "df_customer = pd.read_csv('customer.csv', dtype=str)\n",
    "\n",
    "# standardize the column names\n",
    "df_credit.columns = df_credit.columns.str.lower().str.replace(' ', '_')\n",
    "df_customer.columns = df_customer.columns.str.lower().str.replace(' ', '_')"
   ]
  },
  {
   "cell_type": "code",
   "execution_count": 5,
   "metadata": {},
   "outputs": [
    {
     "data": {
      "text/html": [
       "<div>\n",
       "<style scoped>\n",
       "    .dataframe tbody tr th:only-of-type {\n",
       "        vertical-align: middle;\n",
       "    }\n",
       "\n",
       "    .dataframe tbody tr th {\n",
       "        vertical-align: top;\n",
       "    }\n",
       "\n",
       "    .dataframe thead th {\n",
       "        text-align: right;\n",
       "    }\n",
       "</style>\n",
       "<table border=\"1\" class=\"dataframe\">\n",
       "  <thead>\n",
       "    <tr style=\"text-align: right;\">\n",
       "      <th></th>\n",
       "      <th>client_num</th>\n",
       "      <th>card_category</th>\n",
       "      <th>annual_fees</th>\n",
       "      <th>activation_30_days</th>\n",
       "      <th>customer_acq_cost</th>\n",
       "      <th>week_start_date</th>\n",
       "      <th>week_num</th>\n",
       "      <th>qtr</th>\n",
       "      <th>current_year</th>\n",
       "      <th>credit_limit</th>\n",
       "      <th>total_revolving_bal</th>\n",
       "      <th>total_trans_amt</th>\n",
       "      <th>total_trans_vol</th>\n",
       "      <th>avg_utilization_ratio</th>\n",
       "      <th>use_chip</th>\n",
       "      <th>exp_type</th>\n",
       "      <th>interest_earned</th>\n",
       "      <th>delinquent_acc</th>\n",
       "    </tr>\n",
       "  </thead>\n",
       "  <tbody>\n",
       "    <tr>\n",
       "      <th>100</th>\n",
       "      <td>708301683</td>\n",
       "      <td>Blue</td>\n",
       "      <td>125</td>\n",
       "      <td>0</td>\n",
       "      <td>89</td>\n",
       "      <td>01-01-2023</td>\n",
       "      <td>Week-1</td>\n",
       "      <td>Q1</td>\n",
       "      <td>2023</td>\n",
       "      <td>20798</td>\n",
       "      <td>1059</td>\n",
       "      <td>8038</td>\n",
       "      <td>90</td>\n",
       "      <td>0.051</td>\n",
       "      <td>Swipe</td>\n",
       "      <td>Food</td>\n",
       "      <td>2009.5</td>\n",
       "      <td>0</td>\n",
       "    </tr>\n",
       "    <tr>\n",
       "      <th>3082</th>\n",
       "      <td>714023808</td>\n",
       "      <td>Blue</td>\n",
       "      <td>480</td>\n",
       "      <td>1</td>\n",
       "      <td>119</td>\n",
       "      <td>16-04-2023</td>\n",
       "      <td>Week-16</td>\n",
       "      <td>Q2</td>\n",
       "      <td>2023</td>\n",
       "      <td>13770</td>\n",
       "      <td>2517</td>\n",
       "      <td>1582</td>\n",
       "      <td>36</td>\n",
       "      <td>0.183</td>\n",
       "      <td>Online</td>\n",
       "      <td>Bills</td>\n",
       "      <td>205.66</td>\n",
       "      <td>0</td>\n",
       "    </tr>\n",
       "    <tr>\n",
       "      <th>103</th>\n",
       "      <td>708313608</td>\n",
       "      <td>Blue</td>\n",
       "      <td>245</td>\n",
       "      <td>1</td>\n",
       "      <td>61</td>\n",
       "      <td>01-01-2023</td>\n",
       "      <td>Week-1</td>\n",
       "      <td>Q1</td>\n",
       "      <td>2023</td>\n",
       "      <td>2464</td>\n",
       "      <td>2116</td>\n",
       "      <td>2110</td>\n",
       "      <td>43</td>\n",
       "      <td>0.859</td>\n",
       "      <td>Swipe</td>\n",
       "      <td>Food</td>\n",
       "      <td>274.3</td>\n",
       "      <td>0</td>\n",
       "    </tr>\n",
       "    <tr>\n",
       "      <th>8466</th>\n",
       "      <td>788701608</td>\n",
       "      <td>Blue</td>\n",
       "      <td>125</td>\n",
       "      <td>1</td>\n",
       "      <td>104</td>\n",
       "      <td>29-10-2023</td>\n",
       "      <td>Week-44</td>\n",
       "      <td>Q4</td>\n",
       "      <td>2023</td>\n",
       "      <td>2950</td>\n",
       "      <td>1705</td>\n",
       "      <td>1260</td>\n",
       "      <td>32</td>\n",
       "      <td>0.578</td>\n",
       "      <td>Swipe</td>\n",
       "      <td>Fuel</td>\n",
       "      <td>352.8</td>\n",
       "      <td>0</td>\n",
       "    </tr>\n",
       "    <tr>\n",
       "      <th>1881</th>\n",
       "      <td>711835758</td>\n",
       "      <td>Blue</td>\n",
       "      <td>325</td>\n",
       "      <td>1</td>\n",
       "      <td>80</td>\n",
       "      <td>05-03-2023</td>\n",
       "      <td>Week-10</td>\n",
       "      <td>Q1</td>\n",
       "      <td>2023</td>\n",
       "      <td>34516</td>\n",
       "      <td>2099</td>\n",
       "      <td>1756</td>\n",
       "      <td>35</td>\n",
       "      <td>0.061</td>\n",
       "      <td>Swipe</td>\n",
       "      <td>Grocery</td>\n",
       "      <td>122.92</td>\n",
       "      <td>0</td>\n",
       "    </tr>\n",
       "  </tbody>\n",
       "</table>\n",
       "</div>"
      ],
      "text/plain": [
       "     client_num card_category annual_fees activation_30_days  \\\n",
       "100   708301683          Blue         125                  0   \n",
       "3082  714023808          Blue         480                  1   \n",
       "103   708313608          Blue         245                  1   \n",
       "8466  788701608          Blue         125                  1   \n",
       "1881  711835758          Blue         325                  1   \n",
       "\n",
       "     customer_acq_cost week_start_date week_num qtr current_year credit_limit  \\\n",
       "100                 89      01-01-2023   Week-1  Q1         2023        20798   \n",
       "3082               119      16-04-2023  Week-16  Q2         2023        13770   \n",
       "103                 61      01-01-2023   Week-1  Q1         2023         2464   \n",
       "8466               104      29-10-2023  Week-44  Q4         2023         2950   \n",
       "1881                80      05-03-2023  Week-10  Q1         2023        34516   \n",
       "\n",
       "     total_revolving_bal total_trans_amt total_trans_vol  \\\n",
       "100                 1059            8038              90   \n",
       "3082                2517            1582              36   \n",
       "103                 2116            2110              43   \n",
       "8466                1705            1260              32   \n",
       "1881                2099            1756              35   \n",
       "\n",
       "     avg_utilization_ratio use_chip exp_type interest_earned delinquent_acc  \n",
       "100                  0.051   Swipe      Food          2009.5              0  \n",
       "3082                 0.183  Online     Bills          205.66              0  \n",
       "103                  0.859   Swipe      Food           274.3              0  \n",
       "8466                 0.578   Swipe      Fuel           352.8              0  \n",
       "1881                 0.061   Swipe   Grocery          122.92              0  "
      ]
     },
     "execution_count": 5,
     "metadata": {},
     "output_type": "execute_result"
    }
   ],
   "source": [
    "df_credit.sample(5)"
   ]
  },
  {
   "cell_type": "code",
   "execution_count": 16,
   "metadata": {},
   "outputs": [],
   "source": [
    "df_final = pd.merge(df_customer, df_credit, on='client_num', how='left')"
   ]
  },
  {
   "cell_type": "code",
   "execution_count": 18,
   "metadata": {},
   "outputs": [
    {
     "data": {
      "text/html": [
       "<div>\n",
       "<style scoped>\n",
       "    .dataframe tbody tr th:only-of-type {\n",
       "        vertical-align: middle;\n",
       "    }\n",
       "\n",
       "    .dataframe tbody tr th {\n",
       "        vertical-align: top;\n",
       "    }\n",
       "\n",
       "    .dataframe thead th {\n",
       "        text-align: right;\n",
       "    }\n",
       "</style>\n",
       "<table border=\"1\" class=\"dataframe\">\n",
       "  <thead>\n",
       "    <tr style=\"text-align: right;\">\n",
       "      <th></th>\n",
       "      <th>client_num</th>\n",
       "      <th>customer_age</th>\n",
       "      <th>gender</th>\n",
       "      <th>dependent_count</th>\n",
       "      <th>education_level</th>\n",
       "      <th>marital_status</th>\n",
       "      <th>state_cd</th>\n",
       "      <th>zipcode</th>\n",
       "      <th>car_owner</th>\n",
       "      <th>house_owner</th>\n",
       "      <th>personal_loan</th>\n",
       "      <th>contact</th>\n",
       "      <th>customer_job</th>\n",
       "      <th>income</th>\n",
       "      <th>cust_satisfaction_score</th>\n",
       "      <th>card_category</th>\n",
       "      <th>annual_fees</th>\n",
       "      <th>activation_30_days</th>\n",
       "      <th>customer_acq_cost</th>\n",
       "      <th>week_start_date</th>\n",
       "      <th>week_num</th>\n",
       "      <th>qtr</th>\n",
       "      <th>current_year</th>\n",
       "      <th>credit_limit</th>\n",
       "      <th>total_revolving_bal</th>\n",
       "      <th>total_trans_amt</th>\n",
       "      <th>total_trans_vol</th>\n",
       "      <th>avg_utilization_ratio</th>\n",
       "      <th>use_chip</th>\n",
       "      <th>exp_type</th>\n",
       "      <th>interest_earned</th>\n",
       "      <th>delinquent_acc</th>\n",
       "    </tr>\n",
       "  </thead>\n",
       "  <tbody>\n",
       "  </tbody>\n",
       "</table>\n",
       "</div>"
      ],
      "text/plain": [
       "Empty DataFrame\n",
       "Columns: [client_num, customer_age, gender, dependent_count, education_level, marital_status, state_cd, zipcode, car_owner, house_owner, personal_loan, contact, customer_job, income, cust_satisfaction_score, card_category, annual_fees, activation_30_days, customer_acq_cost, week_start_date, week_num, qtr, current_year, credit_limit, total_revolving_bal, total_trans_amt, total_trans_vol, avg_utilization_ratio, use_chip, exp_type, interest_earned, delinquent_acc]\n",
       "Index: []"
      ]
     },
     "execution_count": 18,
     "metadata": {},
     "output_type": "execute_result"
    }
   ],
   "source": [
    "# check duplicated value\n",
    "df_final[df_final.duplicated()]"
   ]
  },
  {
   "cell_type": "code",
   "execution_count": 19,
   "metadata": {},
   "outputs": [
    {
     "data": {
      "text/plain": [
       "(10108, 32)"
      ]
     },
     "execution_count": 19,
     "metadata": {},
     "output_type": "execute_result"
    }
   ],
   "source": [
    "# separate dataset into two\n",
    "df_final.shape"
   ]
  },
  {
   "cell_type": "code",
   "execution_count": 20,
   "metadata": {},
   "outputs": [
    {
     "data": {
      "text/plain": [
       "5054.0"
      ]
     },
     "execution_count": 20,
     "metadata": {},
     "output_type": "execute_result"
    }
   ],
   "source": [
    "10108/2"
   ]
  },
  {
   "cell_type": "code",
   "execution_count": 25,
   "metadata": {},
   "outputs": [],
   "source": [
    "# separate into 2 files\n",
    "df_final.iloc[:5054].to_csv('credit_card_1.csv', index=False, sep=';')\n",
    "df_final.iloc[5054:].to_csv('credit_card_2.csv', index=False, sep=';')"
   ]
  }
 ],
 "metadata": {
  "kernelspec": {
   "display_name": "ds_env",
   "language": "python",
   "name": "python3"
  },
  "language_info": {
   "codemirror_mode": {
    "name": "ipython",
    "version": 3
   },
   "file_extension": ".py",
   "mimetype": "text/x-python",
   "name": "python",
   "nbconvert_exporter": "python",
   "pygments_lexer": "ipython3",
   "version": "3.9.19"
  }
 },
 "nbformat": 4,
 "nbformat_minor": 2
}
